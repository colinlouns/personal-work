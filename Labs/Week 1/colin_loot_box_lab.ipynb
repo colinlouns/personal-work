{
 "cells": [
  {
   "cell_type": "markdown",
   "metadata": {},
   "source": [
    "# Loot Box \"Fun\"\n",
    "(or, _Discrete Distributions_)"
   ]
  },
  {
   "cell_type": "code",
   "execution_count": 13,
   "metadata": {},
   "outputs": [],
   "source": [
    "import numpy as np\n",
    "import matplotlib.pyplot as plt\n",
    "import scipy.stats as stats\n",
    "import random\n",
    "\n",
    "%matplotlib inline"
   ]
  },
  {
   "cell_type": "markdown",
   "metadata": {},
   "source": [
    "#### Learning objectives\n",
    "* Review the difference between discrete and continuous distributions\n",
    "* Review probability mass functions and cumulative distribution functions\n",
    "* Review use cases for probability distributions\n",
    "\n",
    "#### Scenario:\n",
    "\n",
    "You're an analyst for a gaming studio working on an event for an MMO (massively multiplayer online game.) This event is going to include *loot boxes*.\n",
    "\n",
    "If you're not familiar, to quote from the esteemed Wikipedia:\n",
    "\n",
    ">In video games, a loot box (sometimes loot crate or prize crate, among other names) is a consumable virtual item which can be redeemed to receive a randomised selection of further virtual items, ranging from simple customization options for a player's avatar or character, to game-changing equipment such as weapons and armor. A loot box is typically a form of monetisation, with players either buying the boxes directly or receiving the boxes during play and later buying \"keys\" with which to redeem them. These systems may also be known as gacha (based on gashapon - capsule toys) and integrated into gacha games.\n",
    "\n",
    "Your boss wants some guidance on what sort of randomness to use on these loot boxes. Users should get the very rare (and very powerful) characters and _rarely_ enough that the game doesn't get unbalanced and rarely enough that they're incentivized to pay money for more loot boxes. But users should get _uncommon_ characters often enough that they don't feel like they're wasting money.\n",
    "\n",
    "> **Discussion**: What are some design choices we might suggest to our boss?\n",
    "\n",
    "---\n",
    "\n",
    "## Part One:\n",
    "\n",
    "Recall that the **discrete uniform distribution** is used when:\n",
    "* We have a discrete set of outcomes\n",
    "* Each outcome is equally likely\n",
    "\n",
    "Recall that a **Bernoulli distribution** is used when:\n",
    "* There is a binary outcome (either success or failure)\n",
    "* There is a constant probability of success *p*\n",
    "\n",
    "Recall that a **Poisson distribution** is used when:\n",
    "* The number of successes is is a non-negative integer\n",
    "* Events occur independently\n",
    "* The rate at which events occur is constant\n",
    "* Two events cannot occur at exactly the same instant\n",
    "* The probability of an event occurring in an interval is proportional to the length of the interval\n",
    "\n",
    "Suppose we decide that a loot box should give a super rare character 1% of the time, a rare character 9% of the time, an uncommon character 30% of the time, and a common character 60% of the time. Our boss, though, isn't a math-y type person. We need to explain what this will mean for gameplay as concretely as possible.\n",
    "\n",
    "### Super rare characters:\n",
    "\n",
    "Our boss asks us: a user buys 100 loot boxes. How many `super rare characters` will they get?\n",
    "\n",
    "1. Why is this a kind of bad question to get asked? How would we, as analysts, reframe it?\n",
    "2. What distribution would we use to talk about likely outcomes?\n",
    "3. Plot the probability mass function and cumulative distribution function for the distribution and explain them simply."
   ]
  },
  {
   "cell_type": "code",
   "execution_count": 14,
   "metadata": {},
   "outputs": [],
   "source": [
    "import matplotlib.pyplot as plt\n",
    "import numpy as np\n"
   ]
  },
  {
   "cell_type": "markdown",
   "metadata": {},
   "source": [
    "This is an awkward question because the results are never guaranteed.  Lootboxes are gambling!  To answer this, we could say that the user most likely will obtain 1 (one) super rare character if they buy 100 lootboxes.\n",
    "\n",
    "This is a Poisson distribution. "
   ]
  },
  {
   "cell_type": "code",
   "execution_count": 15,
   "metadata": {},
   "outputs": [
    {
     "data": {
      "text/plain": [
       "Text(0,0.5,'Probability')"
      ]
     },
     "execution_count": 15,
     "metadata": {},
     "output_type": "execute_result"
    },
    {
     "data": {
      "image/png": "[encoded data removed]",
      "text/plain": [
       "<Figure size 432x288 with 1 Axes>"
      ]
     },
     "metadata": {
      "needs_background": "light"
     },
     "output_type": "display_data"
    }
   ],
   "source": [
    "x = ['Common', 'Uncommon', 'Rare', 'Super rare']\n",
    "y = [0.6, 0.3, 0.09, 0.01]\n",
    "width = 1/5\n",
    "plt.bar(x, y, width, color=\"blue\")\n",
    "plt.title('Probablilty of Lootbox Contents')\n",
    "plt.xlabel('Character Type')\n",
    "plt.ylabel('Probability')"
   ]
  },
  {
   "cell_type": "code",
   "execution_count": 18,
   "metadata": {},
   "outputs": [],
   "source": [
    "def loot_box(n):                            \n",
    "    common_count = 0\n",
    "    uncommon_count = 0\n",
    "    rare_count = 0\n",
    "    super_rare_count = 0\n",
    "    \n",
    "    for i in range(n):\n",
    "        roll = random.randint(1, 100)\n",
    "        if roll == 1:   \n",
    "            super_rare_count += 1 \n",
    "        elif roll >= 2 and roll <= 10:\n",
    "            rare_count += 1\n",
    "        elif roll >= 11 and roll <= 40:\n",
    "            uncommon_count += 1\n",
    "        else:\n",
    "            common_count += 1\n",
    "    \n",
    "    return common_count, uncommon_count, rare_count, super_rare_count "
   ]
  },
  {
   "cell_type": "code",
   "execution_count": 73,
   "metadata": {},
   "outputs": [
    {
     "data": {
      "text/plain": [
       "(54, 33, 10, 3)"
      ]
     },
     "execution_count": 73,
     "metadata": {},
     "output_type": "execute_result"
    }
   ],
   "source": [
    "loot_box(100)"
   ]
  },
  {
   "cell_type": "code",
   "execution_count": 27,
   "metadata": {},
   "outputs": [
    {
     "name": "stderr",
     "output_type": "stream",
     "text": [
      "C:\\Users\\colin\\Anaconda3\\lib\\site-packages\\matplotlib\\cbook\\deprecation.py:107: MatplotlibDeprecationWarning: cycling among columns of inputs with non-matching shapes is deprecated.\n",
      "  warnings.warn(message, mplDeprecation, stacklevel=1)\n"
     ]
    },
    {
     "data": {
      "text/plain": [
       "Text(0,0.5,'Cumulative Probability')"
      ]
     },
     "execution_count": 27,
     "metadata": {},
     "output_type": "execute_result"
    },
    {
     "data": {
      "image/png": "[encoded data removed]",
      "text/plain": [
       "<Figure size 432x288 with 1 Axes>"
      ]
     },
     "metadata": {
      "needs_background": "light"
     },
     "output_type": "display_data"
    }
   ],
   "source": [
    "x = [range(100)]\n",
    "common = []\n",
    "uncommon = []\n",
    "rare = []\n",
    "super_rare = []\n",
    "width = 1/4\n",
    "plt.plot(x, common, width, color=\"red\")\n",
    "plt.plot(x, uncommon, width, color=\"blue\")\n",
    "plt.plot(x, rare, width, color=\"yellow\")\n",
    "plt.plot(x, super_rare, width, color=\"green\")\n",
    "plt.title('Culmulative Probablilty of Lootbox Contents')\n",
    "plt.xlabel('Lootboxes opened')\n",
    "plt.ylabel('Cumulative Probability')"
   ]
  },
  {
   "cell_type": "code",
   "execution_count": null,
   "metadata": {},
   "outputs": [],
   "source": []
  },
  {
   "cell_type": "markdown",
   "metadata": {},
   "source": [
    "### Common characters:\n",
    "\n",
    "Our boss is pretty satisfied so far -- nothing here seems game-breaking. He wants to know more about draw rates for common characters. Recall that 60% of the time, a loot box gives a common character."
   ]
  },
  {
   "cell_type": "code",
   "execution_count": 76,
   "metadata": {},
   "outputs": [],
   "source": [
    "n_draws = 100\n",
    "p_common = 0.6\n",
    "\n",
    "common_dist = stats.binom(n_draws, p_common)"
   ]
  },
  {
   "cell_type": "markdown",
   "metadata": {},
   "source": [
    "What do these numbers represent?"
   ]
  },
  {
   "cell_type": "code",
   "execution_count": 80,
   "metadata": {},
   "outputs": [
    {
     "data": {
      "text/plain": [
       "0.08121914499609979"
      ]
     },
     "execution_count": 80,
     "metadata": {},
     "output_type": "execute_result"
    }
   ],
   "source": [
    "common_dist.pmf(60)"
   ]
  },
  {
   "cell_type": "code",
   "execution_count": 81,
   "metadata": {},
   "outputs": [
    {
     "data": {
      "text/plain": [
       "0.537924659114036"
      ]
     },
     "execution_count": 81,
     "metadata": {},
     "output_type": "execute_result"
    }
   ],
   "source": [
    "common_dist.cdf(60)"
   ]
  },
  {
   "cell_type": "markdown",
   "metadata": {},
   "source": [
    "What do these numbers represent?"
   ]
  },
  {
   "cell_type": "code",
   "execution_count": 82,
   "metadata": {},
   "outputs": [
    {
     "data": {
      "text/plain": [
       "6.53318623500069e-23"
      ]
     },
     "execution_count": 82,
     "metadata": {},
     "output_type": "execute_result"
    }
   ],
   "source": [
    "common_dist.pmf(100)"
   ]
  },
  {
   "cell_type": "code",
   "execution_count": 83,
   "metadata": {},
   "outputs": [
    {
     "data": {
      "text/plain": [
       "1.0"
      ]
     },
     "execution_count": 83,
     "metadata": {},
     "output_type": "execute_result"
    }
   ],
   "source": [
    "common_dist.cdf(100)"
   ]
  },
  {
   "cell_type": "markdown",
   "metadata": {},
   "source": [
    "# Part Two\n",
    "\n",
    "A user has their heart set on getting a `super powerful character`. They're going to buy and open loot boxes until they get one, but stop as soon as they get one. This situation calls for the **geometric distribution**, which asks: how many \"failure\" trials occur prior to the first \"success\" trial?\n",
    "\n",
    "The geometric distribution is appropriate when:\n",
    "* Each trial is independent of one another\n",
    "* The probability of success is a constant $p$\n",
    "* The outcome is binary\n",
    "\n",
    "> **Discuss**: What are some metrics we might want to evaluate here? What might lead to customer burnout?"
   ]
  },
  {
   "cell_type": "code",
   "execution_count": null,
   "metadata": {},
   "outputs": [],
   "source": []
  },
  {
   "cell_type": "markdown",
   "metadata": {},
   "source": [
    "## Part Three\n",
    "\n",
    "Last time our company ran an event like the one we're planning for now, we averaged 1,000 loot box purchases a day.\n",
    "\n",
    "> **Discuss**: Would it even be appropriate to use a Poisson distribution based on this data to decide how many servers to rent for the first day of the event? Why or why not?"
   ]
  },
  {
   "cell_type": "code",
   "execution_count": null,
   "metadata": {},
   "outputs": [],
   "source": []
  },
  {
   "cell_type": "markdown",
   "metadata": {},
   "source": [
    "## External Resources\n",
    "* [Probability Distributions for Artists](http://www.tylerlhobbs.com/writings/probability-distributions-for-artists): Use of probability distributions for generative art\n",
    "* [Gacha calculator](https://dskjal.com/statistics/the-probability-of-gacha-calc-en.html): Now you can do this yourself :)\n",
    "* [Statistics and Pokemon](https://daily.pokecommunity.com/2017/07/05/the-numbers-game-shiny-and-perfect-pokemon/): More statistics and video games!"
   ]
  },
  {
   "cell_type": "code",
   "execution_count": null,
   "metadata": {},
   "outputs": [],
   "source": []
  }
 ],
 "metadata": {
  "kernelspec": {
   "display_name": "Python 3",
   "language": "python",
   "name": "python3"
  },
  "language_info": {
   "codemirror_mode": {
    "name": "ipython",
    "version": 3
   },
   "file_extension": ".py",
   "mimetype": "text/x-python",
   "name": "python",
   "nbconvert_exporter": "python",
   "pygments_lexer": "ipython3",
   "version": "3.7.0"
  }
 },
 "nbformat": 4,
 "nbformat_minor": 2
}
